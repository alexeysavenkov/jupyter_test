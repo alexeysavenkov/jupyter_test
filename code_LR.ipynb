{
 "cells": [
  {
   "cell_type": "code",
   "execution_count": 1,
   "metadata": {
    "collapsed": true
   },
   "outputs": [],
   "source": [
    "import pandas"
   ]
  },
  {
   "cell_type": "code",
   "execution_count": 2,
   "metadata": {},
   "outputs": [
    {
     "name": "stderr",
     "output_type": "stream",
     "text": [
      "C:\\Users\\3016205\\AppData\\Local\\Continuum\\Anaconda3\\lib\\site-packages\\IPython\\core\\interactiveshell.py:2717: DtypeWarning: Columns (6) have mixed types. Specify dtype option on import or set low_memory=False.\n",
      "  interactivity=interactivity, compiler=compiler, result=result)\n"
     ]
    }
   ],
   "source": [
    "df = pandas.read_csv(\"C:\\\\Users\\\\3016205\\\\Desktop\\\\CRUISE_DATA_ROAD.csv\")"
   ]
  },
  {
   "cell_type": "code",
   "execution_count": 3,
   "metadata": {},
   "outputs": [
    {
     "data": {
      "text/plain": [
       "Index(['Driver ID', 'Driver Name', 'Start Date', 'End Date',\n",
       "       'Distance Traveled', 'Moving Fuel Used', 'Moving Fuel Economy',\n",
       "       'Fuel Used', 'Fuel Economy', 'Engine %', 'Moving Time %',\n",
       "       'Over Speed %', 'Excess Speed %', 'Over RPM %', 'Long Idle %',\n",
       "       'Short Idle %', 'PTO Time', 'Short Idle Fuel', 'Long Idle Fuel',\n",
       "       'PTO Fuel', 'Cruise Time %', 'Cruise Fuel Economy', 'Top Gear Time %',\n",
       "       'Top Gear Fuel Economy', 'Seatbelt Usage %', 'Brake Applications',\n",
       "       'Brake Applied / Distance', 'Moving Engine Load %',\n",
       "       'Idle Engine Load %', 'DEPT_SHORT_NM', 'EMP_ORIGL_HIRE_DT',\n",
       "       'DISPATCH_DATE', 'DISPATCH_TIME', 'ACT_DISPATCH_DATE',\n",
       "       'ACT_DISPATCH_TIME', 'ACT_ARRIVAL_DATE', 'ACT_ARRIVAL_TIME',\n",
       "       'TRIP_ORIGIN_TERM', 'TRIP_DEST_TERM', 'ARRIVAL_ETA_DATE',\n",
       "       'ARRIVAL_ETA_TIME', 'TRACTOR_ID', 'shp', 'WGT', 'EMAKE', 'EMODEL',\n",
       "       'EYEAR', 'SC', 'REGION', 'DIST', 'Longitude', 'Latitude', 'Route',\n",
       "       'cluster'],\n",
       "      dtype='object')"
      ]
     },
     "execution_count": 3,
     "metadata": {},
     "output_type": "execute_result"
    }
   ],
   "source": [
    "df.columns"
   ]
  },
  {
   "cell_type": "code",
   "execution_count": 5,
   "metadata": {
    "collapsed": true
   },
   "outputs": [],
   "source": [
    "from sklearn import preprocessing\n",
    "min_max_scaler = preprocessing.MinMaxScaler()"
   ]
  },
  {
   "cell_type": "code",
   "execution_count": 6,
   "metadata": {},
   "outputs": [
    {
     "name": "stderr",
     "output_type": "stream",
     "text": [
      "C:\\Users\\3016205\\AppData\\Local\\Continuum\\Anaconda3\\lib\\site-packages\\sklearn\\preprocessing\\data.py:321: DeprecationWarning: Passing 1d arrays as data is deprecated in 0.17 and will raise ValueError in 0.19. Reshape your data either using X.reshape(-1, 1) if your data has a single feature or X.reshape(1, -1) if it contains a single sample.\n",
      "  warnings.warn(DEPRECATION_MSG_1D, DeprecationWarning)\n",
      "C:\\Users\\3016205\\AppData\\Local\\Continuum\\Anaconda3\\lib\\site-packages\\sklearn\\preprocessing\\data.py:356: DeprecationWarning: Passing 1d arrays as data is deprecated in 0.17 and will raise ValueError in 0.19. Reshape your data either using X.reshape(-1, 1) if your data has a single feature or X.reshape(1, -1) if it contains a single sample.\n",
      "  warnings.warn(DEPRECATION_MSG_1D, DeprecationWarning)\n"
     ]
    }
   ],
   "source": [
    "\n",
    "df['WGT'] = min_max_scaler.fit_transform(df['WGT'])"
   ]
  },
  {
   "cell_type": "code",
   "execution_count": 7,
   "metadata": {},
   "outputs": [
    {
     "data": {
      "text/html": [
       "<div>\n",
       "<style>\n",
       "    .dataframe thead tr:only-child th {\n",
       "        text-align: right;\n",
       "    }\n",
       "\n",
       "    .dataframe thead th {\n",
       "        text-align: left;\n",
       "    }\n",
       "\n",
       "    .dataframe tbody tr th {\n",
       "        vertical-align: top;\n",
       "    }\n",
       "</style>\n",
       "<table border=\"1\" class=\"dataframe\">\n",
       "  <thead>\n",
       "    <tr style=\"text-align: right;\">\n",
       "      <th></th>\n",
       "      <th>Driver ID</th>\n",
       "      <th>Driver Name</th>\n",
       "      <th>Start Date</th>\n",
       "      <th>End Date</th>\n",
       "      <th>Distance Traveled</th>\n",
       "      <th>Moving Fuel Used</th>\n",
       "      <th>Moving Fuel Economy</th>\n",
       "      <th>Fuel Used</th>\n",
       "      <th>Fuel Economy</th>\n",
       "      <th>Engine %</th>\n",
       "      <th>...</th>\n",
       "      <th>EMAKE</th>\n",
       "      <th>EMODEL</th>\n",
       "      <th>EYEAR</th>\n",
       "      <th>SC</th>\n",
       "      <th>REGION</th>\n",
       "      <th>DIST</th>\n",
       "      <th>Longitude</th>\n",
       "      <th>Latitude</th>\n",
       "      <th>Route</th>\n",
       "      <th>cluster</th>\n",
       "    </tr>\n",
       "  </thead>\n",
       "  <tbody>\n",
       "    <tr>\n",
       "      <th>0</th>\n",
       "      <td>84768</td>\n",
       "      <td>Estridge, William L</td>\n",
       "      <td>01MAR2018</td>\n",
       "      <td>NaN</td>\n",
       "      <td>442.1</td>\n",
       "      <td>65.44</td>\n",
       "      <td>6.76</td>\n",
       "      <td>65.88</td>\n",
       "      <td>6.71</td>\n",
       "      <td>70.68%</td>\n",
       "      <td>...</td>\n",
       "      <td>PTRBL</td>\n",
       "      <td>579</td>\n",
       "      <td>2018</td>\n",
       "      <td>CRB</td>\n",
       "      <td>SOEA</td>\n",
       "      <td>NaN</td>\n",
       "      <td>-84.165371</td>\n",
       "      <td>37.137983</td>\n",
       "      <td>DAY-CRB</td>\n",
       "      <td>0</td>\n",
       "    </tr>\n",
       "    <tr>\n",
       "      <th>1</th>\n",
       "      <td>84768</td>\n",
       "      <td>Estridge, William L</td>\n",
       "      <td>01MAR2018</td>\n",
       "      <td>NaN</td>\n",
       "      <td>442.1</td>\n",
       "      <td>65.44</td>\n",
       "      <td>6.76</td>\n",
       "      <td>65.88</td>\n",
       "      <td>6.71</td>\n",
       "      <td>70.68%</td>\n",
       "      <td>...</td>\n",
       "      <td>PTRBL</td>\n",
       "      <td>579</td>\n",
       "      <td>2018</td>\n",
       "      <td>CRB</td>\n",
       "      <td>SOEA</td>\n",
       "      <td>NaN</td>\n",
       "      <td>-84.165371</td>\n",
       "      <td>37.137983</td>\n",
       "      <td>CRB-DAY</td>\n",
       "      <td>0</td>\n",
       "    </tr>\n",
       "    <tr>\n",
       "      <th>2</th>\n",
       "      <td>84768</td>\n",
       "      <td>Estridge, William L</td>\n",
       "      <td>02MAR2018</td>\n",
       "      <td>NaN</td>\n",
       "      <td>432.5</td>\n",
       "      <td>54.28</td>\n",
       "      <td>7.97</td>\n",
       "      <td>55.38</td>\n",
       "      <td>7.81</td>\n",
       "      <td>71.19%</td>\n",
       "      <td>...</td>\n",
       "      <td>PTRBL</td>\n",
       "      <td>579</td>\n",
       "      <td>2018</td>\n",
       "      <td>CRB</td>\n",
       "      <td>SOEA</td>\n",
       "      <td>NaN</td>\n",
       "      <td>-84.165371</td>\n",
       "      <td>37.137983</td>\n",
       "      <td>DAY-CRB</td>\n",
       "      <td>0</td>\n",
       "    </tr>\n",
       "    <tr>\n",
       "      <th>3</th>\n",
       "      <td>84768</td>\n",
       "      <td>Estridge, William L</td>\n",
       "      <td>02MAR2018</td>\n",
       "      <td>NaN</td>\n",
       "      <td>432.5</td>\n",
       "      <td>54.28</td>\n",
       "      <td>7.97</td>\n",
       "      <td>55.38</td>\n",
       "      <td>7.81</td>\n",
       "      <td>71.19%</td>\n",
       "      <td>...</td>\n",
       "      <td>PTRBL</td>\n",
       "      <td>579</td>\n",
       "      <td>2018</td>\n",
       "      <td>CRB</td>\n",
       "      <td>SOEA</td>\n",
       "      <td>NaN</td>\n",
       "      <td>-84.165371</td>\n",
       "      <td>37.137983</td>\n",
       "      <td>CRB-DAY</td>\n",
       "      <td>0</td>\n",
       "    </tr>\n",
       "    <tr>\n",
       "      <th>4</th>\n",
       "      <td>84768</td>\n",
       "      <td>Estridge, William L</td>\n",
       "      <td>03MAR2018</td>\n",
       "      <td>NaN</td>\n",
       "      <td>238.1</td>\n",
       "      <td>29.36</td>\n",
       "      <td>8.11</td>\n",
       "      <td>29.75</td>\n",
       "      <td>8.00</td>\n",
       "      <td>62.56%</td>\n",
       "      <td>...</td>\n",
       "      <td>PTRBL</td>\n",
       "      <td>579</td>\n",
       "      <td>2018</td>\n",
       "      <td>CRB</td>\n",
       "      <td>SOEA</td>\n",
       "      <td>NaN</td>\n",
       "      <td>-84.165371</td>\n",
       "      <td>37.137983</td>\n",
       "      <td>DAY-CRB</td>\n",
       "      <td>0</td>\n",
       "    </tr>\n",
       "  </tbody>\n",
       "</table>\n",
       "<p>5 rows × 54 columns</p>\n",
       "</div>"
      ],
      "text/plain": [
       "   Driver ID          Driver Name Start Date  End Date  Distance Traveled  \\\n",
       "0      84768  Estridge, William L  01MAR2018       NaN              442.1   \n",
       "1      84768  Estridge, William L  01MAR2018       NaN              442.1   \n",
       "2      84768  Estridge, William L  02MAR2018       NaN              432.5   \n",
       "3      84768  Estridge, William L  02MAR2018       NaN              432.5   \n",
       "4      84768  Estridge, William L  03MAR2018       NaN              238.1   \n",
       "\n",
       "   Moving Fuel Used Moving Fuel Economy  Fuel Used  Fuel Economy Engine %  \\\n",
       "0             65.44                6.76      65.88          6.71   70.68%   \n",
       "1             65.44                6.76      65.88          6.71   70.68%   \n",
       "2             54.28                7.97      55.38          7.81   71.19%   \n",
       "3             54.28                7.97      55.38          7.81   71.19%   \n",
       "4             29.36                8.11      29.75          8.00   62.56%   \n",
       "\n",
       "    ...     EMAKE EMODEL EYEAR   SC REGION DIST  Longitude   Latitude  \\\n",
       "0   ...     PTRBL    579  2018  CRB   SOEA  NaN -84.165371  37.137983   \n",
       "1   ...     PTRBL    579  2018  CRB   SOEA  NaN -84.165371  37.137983   \n",
       "2   ...     PTRBL    579  2018  CRB   SOEA  NaN -84.165371  37.137983   \n",
       "3   ...     PTRBL    579  2018  CRB   SOEA  NaN -84.165371  37.137983   \n",
       "4   ...     PTRBL    579  2018  CRB   SOEA  NaN -84.165371  37.137983   \n",
       "\n",
       "     Route  cluster  \n",
       "0  DAY-CRB        0  \n",
       "1  CRB-DAY        0  \n",
       "2  DAY-CRB        0  \n",
       "3  CRB-DAY        0  \n",
       "4  DAY-CRB        0  \n",
       "\n",
       "[5 rows x 54 columns]"
      ]
     },
     "execution_count": 7,
     "metadata": {},
     "output_type": "execute_result"
    }
   ],
   "source": [
    "df.head()"
   ]
  },
  {
   "cell_type": "code",
   "execution_count": 8,
   "metadata": {
    "collapsed": true
   },
   "outputs": [],
   "source": [
    "import pandas as pd\n",
    "\n",
    "df['Engine %'] = df['Engine %'].str.strip(\"(\")\n",
    "df['Engine %'] = df['Engine %'].str.strip(\")\")\n",
    "df['Engine %'] = df['Engine %'].str.rstrip('%').astype('float') / 100.0\n",
    "\n",
    "\n",
    "df['Moving Time %'] = df['Moving Time %'].str.strip(\"(\")\n",
    "df['Moving Time %'] = df['Moving Time %'].str.strip(\")\")\n",
    "df['Moving Time %'] = df['Moving Time %'].str.rstrip('%').astype('float') / 100.0\n",
    "\n",
    "\n",
    "df['Over Speed %'] = df['Over Speed %'].str.strip(\"(\")\n",
    "df['Over Speed %'] = df['Over Speed %'].str.strip(\")\")\n",
    "df['Over Speed %'] = df['Over Speed %'].str.rstrip('%').astype('float') / 100.0\n",
    "\n",
    "\n",
    "df['Excess Speed %'] = df['Excess Speed %'].str.strip(\"(\")\n",
    "df['Excess Speed %'] = df['Excess Speed %'].str.strip(\")\")\n",
    "df['Excess Speed %'] = df['Excess Speed %'].str.rstrip('%').astype('float') / 100.0\n",
    "\n",
    "\n",
    "df['Over RPM %'] = df['Over RPM %'].str.strip(\"(\")\n",
    "df['Over RPM %'] = df['Over RPM %'].str.strip(\")\")\n",
    "df['Over RPM %'] = df['Over RPM %'].str.rstrip('%').astype('float') / 100.0\n",
    "\n",
    "\n",
    "df['Long Idle %'] = df['Long Idle %'].str.strip(\"(\")\n",
    "df['Long Idle %'] = df['Long Idle %'].str.strip(\")\")\n",
    "df['Long Idle %'] = df['Long Idle %'].str.rstrip('%').astype('float') / 100.0\n",
    "\n",
    "\n",
    "df['Short Idle %'] = df['Short Idle %'].str.strip(\"(\")\n",
    "df['Short Idle %'] = df['Short Idle %'].str.strip(\")\")\n",
    "df['Short Idle %'] = df['Short Idle %'].str.rstrip('%').astype('float') / 100.0\n",
    "\n",
    "\n",
    "df['Cruise Time %'] = df['Cruise Time %'].str.strip(\"(\")\n",
    "df['Cruise Time %'] = df['Cruise Time %'].str.strip(\")\")\n",
    "df['Cruise Time %'] = df['Cruise Time %'].str.rstrip('%').astype('float') / 100.0\n",
    "\n",
    "\n",
    "df['Top Gear Time %'] = df['Top Gear Time %'].str.strip(\"(\")\n",
    "df['Top Gear Time %'] = df['Top Gear Time %'].str.strip(\")\")\n",
    "df['Top Gear Time %'] = df['Top Gear Time %'].str.rstrip('%').astype('float') / 100.0"
   ]
  },
  {
   "cell_type": "code",
   "execution_count": 9,
   "metadata": {
    "collapsed": true
   },
   "outputs": [],
   "source": [
    "df0 = df.loc[df['cluster'] == 0]\n",
    "df1 = df.loc[df['cluster'] == 1]\n",
    "df2 = df.loc[df['cluster'] == 2]\n",
    "df3 = df.loc[df['cluster'] == 3]"
   ]
  },
  {
   "cell_type": "markdown",
   "metadata": {},
   "source": [
    "# Cluster 0 - Linear Regression \n"
   ]
  },
  {
   "cell_type": "code",
   "execution_count": 10,
   "metadata": {
    "collapsed": true
   },
   "outputs": [],
   "source": [
    "import numpy as np\n",
    "import pandas as pd\n",
    "import scipy.stats as stats\n",
    "import matplotlib.pyplot as plt\n",
    "import sklearn\n",
    "\n",
    "import seaborn as sns\n",
    "\n",
    "# special matplotlib argument for improved plots\n",
    "from matplotlib import rcParams\n",
    "sns.set_style(\"whitegrid\")\n",
    "sns.set_context(\"poster\")\n",
    "\n",
    "df0 = df0.drop('Driver ID', axis = 1)"
   ]
  },
  {
   "cell_type": "code",
   "execution_count": 11,
   "metadata": {
    "collapsed": true
   },
   "outputs": [],
   "source": [
    "df0 = df0.drop('Route', axis = 1)\n",
    "df0 = df0.drop('Moving Fuel Used', axis = 1)\n",
    "df0 = df0.drop('Fuel Used', axis = 1)\n",
    "df0 = df0.drop('Short Idle Fuel', axis = 1)\n",
    "df0 = df0.drop('Long Idle Fuel', axis = 1)\n",
    "df0 = df0.drop('shp', axis = 1)\n"
   ]
  },
  {
   "cell_type": "code",
   "execution_count": 12,
   "metadata": {
    "collapsed": true
   },
   "outputs": [],
   "source": [
    "df0 = df0.drop('SC', axis = 1)\n",
    "df0 = df0.drop('DIST', axis = 1)\n",
    "df0 = df0.drop('REGION', axis = 1)"
   ]
  },
  {
   "cell_type": "code",
   "execution_count": 13,
   "metadata": {
    "collapsed": true
   },
   "outputs": [],
   "source": [
    "df0 = df0.drop('EMAKE', axis = 1)\n",
    "df0 = df0.drop('EMODEL', axis = 1)\n",
    "df0 = df0.drop('EYEAR', axis = 1)"
   ]
  },
  {
   "cell_type": "code",
   "execution_count": 14,
   "metadata": {
    "collapsed": true
   },
   "outputs": [],
   "source": [
    "df0 = df0.drop('TRACTOR_ID', axis = 1)\n",
    "df0 = df0.drop('DEPT_SHORT_NM', axis = 1)\n",
    "df0 = df0.drop('TRIP_ORIGIN_TERM', axis = 1)\n",
    "df0 = df0.drop('TRIP_DEST_TERM', axis = 1)\n",
    "df0 = df0.drop('Latitude', axis = 1)\n",
    "df0 = df0.drop('Longitude', axis = 1)\n",
    "df0 = df0.drop('DISPATCH_DATE', axis = 1)\n",
    "df0 = df0.drop('DISPATCH_TIME', axis = 1)\n",
    "df0 = df0.drop('ACT_DISPATCH_DATE', axis = 1)\n",
    "df0 = df0.drop('ACT_DISPATCH_TIME', axis = 1)\n",
    "df0 = df0.drop('ACT_ARRIVAL_DATE', axis = 1)\n",
    "df0 = df0.drop('ACT_ARRIVAL_TIME', axis = 1)\n",
    "df0 = df0.drop('ARRIVAL_ETA_DATE', axis = 1)\n",
    "df0 = df0.drop('ARRIVAL_ETA_TIME', axis = 1)\n",
    "df0 = df0.drop('cluster', axis = 1)"
   ]
  },
  {
   "cell_type": "code",
   "execution_count": 15,
   "metadata": {
    "collapsed": true
   },
   "outputs": [],
   "source": [
    "df0 = df0.drop('End Date', axis = 1)"
   ]
  },
  {
   "cell_type": "code",
   "execution_count": 16,
   "metadata": {
    "collapsed": true
   },
   "outputs": [],
   "source": [
    "df0 = df0.drop('Start Date', axis = 1)\n",
    "df0 = df0.drop('EMP_ORIGL_HIRE_DT', axis = 1)\n",
    "df0 = df0.drop('Driver Name', axis = 1)"
   ]
  },
  {
   "cell_type": "code",
   "execution_count": 17,
   "metadata": {
    "collapsed": true
   },
   "outputs": [],
   "source": [
    "df0 = df0.drop('Seatbelt Usage %', axis = 1)\n",
    "df0 = df0.drop('Moving Engine Load %', axis = 1)\n",
    "df0 = df0.drop('Idle Engine Load %', axis = 1)\n",
    "df0 = df0.drop('Moving Fuel Economy', axis = 1)"
   ]
  },
  {
   "cell_type": "code",
   "execution_count": 18,
   "metadata": {
    "collapsed": true
   },
   "outputs": [],
   "source": [
    "df0 = df0.drop('PTO Time', axis = 1)\n",
    "df0 = df0.drop('Cruise Fuel Economy', axis = 1)"
   ]
  },
  {
   "cell_type": "code",
   "execution_count": 19,
   "metadata": {
    "collapsed": true
   },
   "outputs": [],
   "source": [
    "df0_clean= df0.dropna()"
   ]
  },
  {
   "cell_type": "code",
   "execution_count": 20,
   "metadata": {},
   "outputs": [
    {
     "data": {
      "text/plain": [
       "Index(['Distance Traveled', 'Fuel Economy', 'Engine %', 'Moving Time %',\n",
       "       'Over Speed %', 'Excess Speed %', 'Over RPM %', 'Long Idle %',\n",
       "       'Short Idle %', 'PTO Fuel', 'Cruise Time %', 'Top Gear Time %',\n",
       "       'Top Gear Fuel Economy', 'Brake Applications',\n",
       "       'Brake Applied / Distance', 'WGT'],\n",
       "      dtype='object')"
      ]
     },
     "execution_count": 20,
     "metadata": {},
     "output_type": "execute_result"
    }
   ],
   "source": [
    "df0.columns"
   ]
  },
  {
   "cell_type": "code",
   "execution_count": 21,
   "metadata": {},
   "outputs": [
    {
     "data": {
      "text/html": [
       "<div>\n",
       "<style>\n",
       "    .dataframe thead tr:only-child th {\n",
       "        text-align: right;\n",
       "    }\n",
       "\n",
       "    .dataframe thead th {\n",
       "        text-align: left;\n",
       "    }\n",
       "\n",
       "    .dataframe tbody tr th {\n",
       "        vertical-align: top;\n",
       "    }\n",
       "</style>\n",
       "<table border=\"1\" class=\"dataframe\">\n",
       "  <thead>\n",
       "    <tr style=\"text-align: right;\">\n",
       "      <th></th>\n",
       "      <th>Distance Traveled</th>\n",
       "      <th>Fuel Economy</th>\n",
       "      <th>Engine %</th>\n",
       "      <th>Moving Time %</th>\n",
       "      <th>Over Speed %</th>\n",
       "      <th>Excess Speed %</th>\n",
       "      <th>Over RPM %</th>\n",
       "      <th>Long Idle %</th>\n",
       "      <th>Short Idle %</th>\n",
       "      <th>PTO Fuel</th>\n",
       "      <th>Cruise Time %</th>\n",
       "      <th>Top Gear Time %</th>\n",
       "      <th>Top Gear Fuel Economy</th>\n",
       "      <th>Brake Applications</th>\n",
       "      <th>Brake Applied / Distance</th>\n",
       "      <th>WGT</th>\n",
       "    </tr>\n",
       "  </thead>\n",
       "  <tbody>\n",
       "    <tr>\n",
       "      <th>0</th>\n",
       "      <td>442.1</td>\n",
       "      <td>6.71</td>\n",
       "      <td>0.7068</td>\n",
       "      <td>0.6712</td>\n",
       "      <td>0.0324</td>\n",
       "      <td>0.0</td>\n",
       "      <td>0.0</td>\n",
       "      <td>0.0000</td>\n",
       "      <td>0.0496</td>\n",
       "      <td>0.0</td>\n",
       "      <td>0.0109</td>\n",
       "      <td>0.5286</td>\n",
       "      <td>7.55</td>\n",
       "      <td>189.0</td>\n",
       "      <td>0.0</td>\n",
       "      <td>0.006356</td>\n",
       "    </tr>\n",
       "    <tr>\n",
       "      <th>1</th>\n",
       "      <td>442.1</td>\n",
       "      <td>6.71</td>\n",
       "      <td>0.7068</td>\n",
       "      <td>0.6712</td>\n",
       "      <td>0.0324</td>\n",
       "      <td>0.0</td>\n",
       "      <td>0.0</td>\n",
       "      <td>0.0000</td>\n",
       "      <td>0.0496</td>\n",
       "      <td>0.0</td>\n",
       "      <td>0.0109</td>\n",
       "      <td>0.5286</td>\n",
       "      <td>7.55</td>\n",
       "      <td>189.0</td>\n",
       "      <td>0.0</td>\n",
       "      <td>0.004370</td>\n",
       "    </tr>\n",
       "    <tr>\n",
       "      <th>2</th>\n",
       "      <td>432.5</td>\n",
       "      <td>7.81</td>\n",
       "      <td>0.7119</td>\n",
       "      <td>0.5997</td>\n",
       "      <td>0.0678</td>\n",
       "      <td>0.0</td>\n",
       "      <td>0.0</td>\n",
       "      <td>0.0870</td>\n",
       "      <td>0.0684</td>\n",
       "      <td>0.0</td>\n",
       "      <td>0.0723</td>\n",
       "      <td>0.6622</td>\n",
       "      <td>8.78</td>\n",
       "      <td>212.0</td>\n",
       "      <td>0.0</td>\n",
       "      <td>0.003894</td>\n",
       "    </tr>\n",
       "    <tr>\n",
       "      <th>3</th>\n",
       "      <td>432.5</td>\n",
       "      <td>7.81</td>\n",
       "      <td>0.7119</td>\n",
       "      <td>0.5997</td>\n",
       "      <td>0.0678</td>\n",
       "      <td>0.0</td>\n",
       "      <td>0.0</td>\n",
       "      <td>0.0870</td>\n",
       "      <td>0.0684</td>\n",
       "      <td>0.0</td>\n",
       "      <td>0.0723</td>\n",
       "      <td>0.6622</td>\n",
       "      <td>8.78</td>\n",
       "      <td>212.0</td>\n",
       "      <td>0.0</td>\n",
       "      <td>0.002989</td>\n",
       "    </tr>\n",
       "    <tr>\n",
       "      <th>4</th>\n",
       "      <td>238.1</td>\n",
       "      <td>8.00</td>\n",
       "      <td>0.6256</td>\n",
       "      <td>0.5562</td>\n",
       "      <td>0.0920</td>\n",
       "      <td>0.0</td>\n",
       "      <td>0.0</td>\n",
       "      <td>0.0245</td>\n",
       "      <td>0.0859</td>\n",
       "      <td>0.0</td>\n",
       "      <td>0.0657</td>\n",
       "      <td>0.7245</td>\n",
       "      <td>8.79</td>\n",
       "      <td>118.0</td>\n",
       "      <td>1.0</td>\n",
       "      <td>0.002507</td>\n",
       "    </tr>\n",
       "  </tbody>\n",
       "</table>\n",
       "</div>"
      ],
      "text/plain": [
       "   Distance Traveled  Fuel Economy  Engine %  Moving Time %  Over Speed %  \\\n",
       "0              442.1          6.71    0.7068         0.6712        0.0324   \n",
       "1              442.1          6.71    0.7068         0.6712        0.0324   \n",
       "2              432.5          7.81    0.7119         0.5997        0.0678   \n",
       "3              432.5          7.81    0.7119         0.5997        0.0678   \n",
       "4              238.1          8.00    0.6256         0.5562        0.0920   \n",
       "\n",
       "   Excess Speed %  Over RPM %  Long Idle %  Short Idle %  PTO Fuel  \\\n",
       "0             0.0         0.0       0.0000        0.0496       0.0   \n",
       "1             0.0         0.0       0.0000        0.0496       0.0   \n",
       "2             0.0         0.0       0.0870        0.0684       0.0   \n",
       "3             0.0         0.0       0.0870        0.0684       0.0   \n",
       "4             0.0         0.0       0.0245        0.0859       0.0   \n",
       "\n",
       "   Cruise Time %  Top Gear Time %  Top Gear Fuel Economy  Brake Applications  \\\n",
       "0         0.0109           0.5286                   7.55               189.0   \n",
       "1         0.0109           0.5286                   7.55               189.0   \n",
       "2         0.0723           0.6622                   8.78               212.0   \n",
       "3         0.0723           0.6622                   8.78               212.0   \n",
       "4         0.0657           0.7245                   8.79               118.0   \n",
       "\n",
       "   Brake Applied / Distance       WGT  \n",
       "0                       0.0  0.006356  \n",
       "1                       0.0  0.004370  \n",
       "2                       0.0  0.003894  \n",
       "3                       0.0  0.002989  \n",
       "4                       1.0  0.002507  "
      ]
     },
     "execution_count": 21,
     "metadata": {},
     "output_type": "execute_result"
    }
   ],
   "source": [
    "df0_clean.head()"
   ]
  },
  {
   "cell_type": "code",
   "execution_count": 22,
   "metadata": {
    "collapsed": true
   },
   "outputs": [],
   "source": [
    "from sklearn.linear_model import LinearRegression\n",
    "X = df0_clean.drop('Fuel Economy', axis = 1)"
   ]
  },
  {
   "cell_type": "code",
   "execution_count": 23,
   "metadata": {},
   "outputs": [
    {
     "data": {
      "text/plain": [
       "LinearRegression(copy_X=True, fit_intercept=True, n_jobs=1, normalize=False)"
      ]
     },
     "execution_count": 23,
     "metadata": {},
     "output_type": "execute_result"
    }
   ],
   "source": [
    "lm = LinearRegression()\n",
    "lm.fit(X,df0_clean['Fuel Economy'])"
   ]
  },
  {
   "cell_type": "code",
   "execution_count": 24,
   "metadata": {},
   "outputs": [
    {
     "name": "stdout",
     "output_type": "stream",
     "text": [
      "Estimed intercept coefficient: 7.518911430458001\n"
     ]
    }
   ],
   "source": [
    "print('Estimed intercept coefficient: {}'.format(lm.intercept_))"
   ]
  },
  {
   "cell_type": "code",
   "execution_count": 25,
   "metadata": {},
   "outputs": [
    {
     "name": "stdout",
     "output_type": "stream",
     "text": [
      "Number of Coefficient:15\n"
     ]
    }
   ],
   "source": [
    "print('Number of Coefficient:{}'.format(len(lm.coef_)))"
   ]
  },
  {
   "cell_type": "code",
   "execution_count": 26,
   "metadata": {},
   "outputs": [
    {
     "data": {
      "text/plain": [
       "0.29932743635115977"
      ]
     },
     "execution_count": 26,
     "metadata": {},
     "output_type": "execute_result"
    }
   ],
   "source": [
    "from sklearn.metrics import r2_score\n",
    "r2_score(df0_clean['Fuel Economy'], lm.predict(X), multioutput='variance_weighted')"
   ]
  },
  {
   "cell_type": "code",
   "execution_count": 27,
   "metadata": {},
   "outputs": [
    {
     "data": {
      "text/html": [
       "<div>\n",
       "<style>\n",
       "    .dataframe thead tr:only-child th {\n",
       "        text-align: right;\n",
       "    }\n",
       "\n",
       "    .dataframe thead th {\n",
       "        text-align: left;\n",
       "    }\n",
       "\n",
       "    .dataframe tbody tr th {\n",
       "        vertical-align: top;\n",
       "    }\n",
       "</style>\n",
       "<table border=\"1\" class=\"dataframe\">\n",
       "  <thead>\n",
       "    <tr style=\"text-align: right;\">\n",
       "      <th></th>\n",
       "      <th>features</th>\n",
       "      <th>estimatedCoefficients</th>\n",
       "    </tr>\n",
       "  </thead>\n",
       "  <tbody>\n",
       "    <tr>\n",
       "      <th>0</th>\n",
       "      <td>Distance Traveled</td>\n",
       "      <td>-0.000681</td>\n",
       "    </tr>\n",
       "    <tr>\n",
       "      <th>1</th>\n",
       "      <td>Engine %</td>\n",
       "      <td>-1.374774</td>\n",
       "    </tr>\n",
       "    <tr>\n",
       "      <th>2</th>\n",
       "      <td>Moving Time %</td>\n",
       "      <td>1.647686</td>\n",
       "    </tr>\n",
       "    <tr>\n",
       "      <th>3</th>\n",
       "      <td>Over Speed %</td>\n",
       "      <td>0.574261</td>\n",
       "    </tr>\n",
       "    <tr>\n",
       "      <th>4</th>\n",
       "      <td>Excess Speed %</td>\n",
       "      <td>0.782256</td>\n",
       "    </tr>\n",
       "    <tr>\n",
       "      <th>5</th>\n",
       "      <td>Over RPM %</td>\n",
       "      <td>-1.286021</td>\n",
       "    </tr>\n",
       "    <tr>\n",
       "      <th>6</th>\n",
       "      <td>Long Idle %</td>\n",
       "      <td>-2.777021</td>\n",
       "    </tr>\n",
       "    <tr>\n",
       "      <th>7</th>\n",
       "      <td>Short Idle %</td>\n",
       "      <td>-3.963641</td>\n",
       "    </tr>\n",
       "    <tr>\n",
       "      <th>8</th>\n",
       "      <td>PTO Fuel</td>\n",
       "      <td>-0.006084</td>\n",
       "    </tr>\n",
       "    <tr>\n",
       "      <th>9</th>\n",
       "      <td>Cruise Time %</td>\n",
       "      <td>0.139196</td>\n",
       "    </tr>\n",
       "    <tr>\n",
       "      <th>10</th>\n",
       "      <td>Top Gear Time %</td>\n",
       "      <td>0.007787</td>\n",
       "    </tr>\n",
       "    <tr>\n",
       "      <th>11</th>\n",
       "      <td>Top Gear Fuel Economy</td>\n",
       "      <td>0.017795</td>\n",
       "    </tr>\n",
       "    <tr>\n",
       "      <th>12</th>\n",
       "      <td>Brake Applications</td>\n",
       "      <td>0.000194</td>\n",
       "    </tr>\n",
       "    <tr>\n",
       "      <th>13</th>\n",
       "      <td>Brake Applied / Distance</td>\n",
       "      <td>-0.071956</td>\n",
       "    </tr>\n",
       "    <tr>\n",
       "      <th>14</th>\n",
       "      <td>WGT</td>\n",
       "      <td>-78.413383</td>\n",
       "    </tr>\n",
       "  </tbody>\n",
       "</table>\n",
       "</div>"
      ],
      "text/plain": [
       "                    features  estimatedCoefficients\n",
       "0          Distance Traveled              -0.000681\n",
       "1                   Engine %              -1.374774\n",
       "2              Moving Time %               1.647686\n",
       "3               Over Speed %               0.574261\n",
       "4             Excess Speed %               0.782256\n",
       "5                 Over RPM %              -1.286021\n",
       "6                Long Idle %              -2.777021\n",
       "7               Short Idle %              -3.963641\n",
       "8                   PTO Fuel              -0.006084\n",
       "9              Cruise Time %               0.139196\n",
       "10           Top Gear Time %               0.007787\n",
       "11     Top Gear Fuel Economy               0.017795\n",
       "12        Brake Applications               0.000194\n",
       "13  Brake Applied / Distance              -0.071956\n",
       "14                       WGT             -78.413383"
      ]
     },
     "execution_count": 27,
     "metadata": {},
     "output_type": "execute_result"
    }
   ],
   "source": [
    "pd.DataFrame({'features':X.columns,'estimatedCoefficients':lm.coef_})[['features','estimatedCoefficients']]"
   ]
  },
  {
   "cell_type": "markdown",
   "metadata": {},
   "source": [
    "Add Estimated Coefficient Intercept to this dataframe"
   ]
  },
  {
   "cell_type": "code",
   "execution_count": 28,
   "metadata": {
    "collapsed": true
   },
   "outputs": [],
   "source": [
    "X_train, X_test, Y_Train, Y_test = sklearn.model_selection.train_test_split(X,df0_clean['Fuel Economy'], test_size = 0.33, random_state = 5 )"
   ]
  },
  {
   "cell_type": "code",
   "execution_count": 29,
   "metadata": {},
   "outputs": [
    {
     "name": "stdout",
     "output_type": "stream",
     "text": [
      "(401602, 15)\n",
      "(401602,)\n",
      "(197804, 15)\n",
      "(197804,)\n"
     ]
    }
   ],
   "source": [
    "print(X_train.shape)\n",
    "print(Y_Train.shape)\n",
    "print(X_test.shape)\n",
    "print(Y_test.shape)"
   ]
  },
  {
   "cell_type": "code",
   "execution_count": 30,
   "metadata": {
    "collapsed": true
   },
   "outputs": [],
   "source": [
    "lm = LinearRegression()\n",
    "lm.fit(X_train, Y_Train)\n",
    "PTrain = lm.predict(X_train)\n",
    "PTest = lm.predict(X_test)"
   ]
  },
  {
   "cell_type": "code",
   "execution_count": 31,
   "metadata": {},
   "outputs": [
    {
     "name": "stdout",
     "output_type": "stream",
     "text": [
      "MSE training data:  0.576536300696685\n",
      "MSE test data:  0.6296840502007379\n"
     ]
    }
   ],
   "source": [
    "mseTrain = np.mean((Y_Train - lm.predict(X_train)) ** 2)\n",
    "mseTest = np.mean((Y_test - lm.predict(X_test)) ** 2)\n",
    "print(\"MSE training data: \", mseTrain)\n",
    "print(\"MSE test data: \", mseTest)"
   ]
  },
  {
   "cell_type": "markdown",
   "metadata": {},
   "source": [
    "# CLUSTER 1 - Linear Regression"
   ]
  },
  {
   "cell_type": "code",
   "execution_count": 32,
   "metadata": {},
   "outputs": [
    {
     "data": {
      "text/plain": [
       "LinearRegression(copy_X=True, fit_intercept=True, n_jobs=1, normalize=False)"
      ]
     },
     "execution_count": 32,
     "metadata": {},
     "output_type": "execute_result"
    }
   ],
   "source": [
    "df1 = df1.drop('Driver ID', axis = 1)\n",
    "df1 = df1.drop('Route', axis = 1)\n",
    "df1 = df1.drop('cluster', axis = 1)\n",
    "df1 = df1.drop('Moving Fuel Used', axis = 1)\n",
    "df1 = df1.drop('Fuel Used', axis = 1)\n",
    "df1 = df1.drop('Short Idle Fuel', axis = 1)\n",
    "df1 = df1.drop('Long Idle Fuel', axis = 1)\n",
    "df1 = df1.drop('shp', axis = 1)\n",
    "df1 = df1.drop('SC', axis = 1)\n",
    "df1 = df1.drop('DIST', axis = 1)\n",
    "df1 = df1.drop('REGION', axis = 1)\n",
    "df1 = df1.drop('EMAKE', axis = 1)\n",
    "df1 = df1.drop('EMODEL', axis = 1)\n",
    "df1 = df1.drop('EYEAR', axis = 1)\n",
    "df1 = df1.drop('TRACTOR_ID', axis = 1)\n",
    "df1 = df1.drop('DEPT_SHORT_NM', axis = 1)\n",
    "df1 = df1.drop('TRIP_ORIGIN_TERM', axis = 1)\n",
    "df1 = df1.drop('TRIP_DEST_TERM', axis = 1)\n",
    "df1 = df1.drop('Latitude', axis = 1)\n",
    "df1 = df1.drop('Longitude', axis = 1)\n",
    "df1 = df1.drop('DISPATCH_DATE', axis = 1)\n",
    "df1 = df1.drop('DISPATCH_TIME', axis = 1)\n",
    "df1 = df1.drop('ACT_DISPATCH_DATE', axis = 1)\n",
    "df1 = df1.drop('ACT_DISPATCH_TIME', axis = 1)\n",
    "df1 = df1.drop('ACT_ARRIVAL_DATE', axis = 1)\n",
    "df1 = df1.drop('ACT_ARRIVAL_TIME', axis = 1)\n",
    "df1 = df1.drop('ARRIVAL_ETA_DATE', axis = 1)\n",
    "df1 = df1.drop('ARRIVAL_ETA_TIME', axis = 1)\n",
    "df1 = df1.drop('End Date', axis = 1)\n",
    "df1 = df1.drop('Start Date', axis = 1)\n",
    "df1 = df1.drop('EMP_ORIGL_HIRE_DT', axis = 1)\n",
    "df1 = df1.drop('Driver Name', axis = 1)\n",
    "df1 = df1.drop('Seatbelt Usage %', axis = 1)\n",
    "df1 = df1.drop('Moving Engine Load %', axis = 1)\n",
    "df1 = df1.drop('Idle Engine Load %', axis = 1)\n",
    "df1 = df1.drop('Moving Fuel Economy', axis = 1)\n",
    "df1 = df1.drop('PTO Time', axis = 1)\n",
    "df1 = df1.drop('Cruise Fuel Economy', axis = 1)\n",
    "\n",
    "\n",
    "\n",
    "\n",
    "df1_clean= df1.dropna()\n",
    "\n",
    "from sklearn.linear_model import LinearRegression\n",
    "X = df1_clean.drop('Fuel Economy', axis = 1)\n",
    "\n",
    "lm = LinearRegression()\n",
    "lm.fit(X,df1_clean['Fuel Economy'])"
   ]
  },
  {
   "cell_type": "code",
   "execution_count": 33,
   "metadata": {},
   "outputs": [
    {
     "name": "stdout",
     "output_type": "stream",
     "text": [
      "Number of Coefficient:15\n"
     ]
    }
   ],
   "source": [
    "print('Number of Coefficient:{}'.format(len(lm.coef_)))"
   ]
  },
  {
   "cell_type": "code",
   "execution_count": 34,
   "metadata": {},
   "outputs": [
    {
     "name": "stdout",
     "output_type": "stream",
     "text": [
      "Estimed intercept coefficient: 6.9109110162332765\n"
     ]
    }
   ],
   "source": [
    "print('Estimed intercept coefficient: {}'.format(lm.intercept_))"
   ]
  },
  {
   "cell_type": "code",
   "execution_count": 35,
   "metadata": {},
   "outputs": [
    {
     "data": {
      "text/plain": [
       "0.30370011663882457"
      ]
     },
     "execution_count": 35,
     "metadata": {},
     "output_type": "execute_result"
    }
   ],
   "source": [
    "from sklearn.metrics import r2_score\n",
    "r2_score(df1_clean['Fuel Economy'], lm.predict(X), multioutput='variance_weighted')"
   ]
  },
  {
   "cell_type": "code",
   "execution_count": 36,
   "metadata": {},
   "outputs": [
    {
     "data": {
      "text/html": [
       "<div>\n",
       "<style>\n",
       "    .dataframe thead tr:only-child th {\n",
       "        text-align: right;\n",
       "    }\n",
       "\n",
       "    .dataframe thead th {\n",
       "        text-align: left;\n",
       "    }\n",
       "\n",
       "    .dataframe tbody tr th {\n",
       "        vertical-align: top;\n",
       "    }\n",
       "</style>\n",
       "<table border=\"1\" class=\"dataframe\">\n",
       "  <thead>\n",
       "    <tr style=\"text-align: right;\">\n",
       "      <th></th>\n",
       "      <th>features</th>\n",
       "      <th>estimatedCoefficients</th>\n",
       "    </tr>\n",
       "  </thead>\n",
       "  <tbody>\n",
       "    <tr>\n",
       "      <th>0</th>\n",
       "      <td>Distance Traveled</td>\n",
       "      <td>-0.000768</td>\n",
       "    </tr>\n",
       "    <tr>\n",
       "      <th>1</th>\n",
       "      <td>Engine %</td>\n",
       "      <td>-4.800342</td>\n",
       "    </tr>\n",
       "    <tr>\n",
       "      <th>2</th>\n",
       "      <td>Moving Time %</td>\n",
       "      <td>5.521254</td>\n",
       "    </tr>\n",
       "    <tr>\n",
       "      <th>3</th>\n",
       "      <td>Over Speed %</td>\n",
       "      <td>2.121030</td>\n",
       "    </tr>\n",
       "    <tr>\n",
       "      <th>4</th>\n",
       "      <td>Excess Speed %</td>\n",
       "      <td>1.376772</td>\n",
       "    </tr>\n",
       "    <tr>\n",
       "      <th>5</th>\n",
       "      <td>Over RPM %</td>\n",
       "      <td>-2.981784</td>\n",
       "    </tr>\n",
       "    <tr>\n",
       "      <th>6</th>\n",
       "      <td>Long Idle %</td>\n",
       "      <td>-0.065483</td>\n",
       "    </tr>\n",
       "    <tr>\n",
       "      <th>7</th>\n",
       "      <td>Short Idle %</td>\n",
       "      <td>-2.690566</td>\n",
       "    </tr>\n",
       "    <tr>\n",
       "      <th>8</th>\n",
       "      <td>PTO Fuel</td>\n",
       "      <td>-0.005590</td>\n",
       "    </tr>\n",
       "    <tr>\n",
       "      <th>9</th>\n",
       "      <td>Cruise Time %</td>\n",
       "      <td>0.581874</td>\n",
       "    </tr>\n",
       "    <tr>\n",
       "      <th>10</th>\n",
       "      <td>Top Gear Time %</td>\n",
       "      <td>0.008846</td>\n",
       "    </tr>\n",
       "    <tr>\n",
       "      <th>11</th>\n",
       "      <td>Top Gear Fuel Economy</td>\n",
       "      <td>0.002718</td>\n",
       "    </tr>\n",
       "    <tr>\n",
       "      <th>12</th>\n",
       "      <td>Brake Applications</td>\n",
       "      <td>0.000175</td>\n",
       "    </tr>\n",
       "    <tr>\n",
       "      <th>13</th>\n",
       "      <td>Brake Applied / Distance</td>\n",
       "      <td>-0.023846</td>\n",
       "    </tr>\n",
       "    <tr>\n",
       "      <th>14</th>\n",
       "      <td>WGT</td>\n",
       "      <td>-116.062414</td>\n",
       "    </tr>\n",
       "  </tbody>\n",
       "</table>\n",
       "</div>"
      ],
      "text/plain": [
       "                    features  estimatedCoefficients\n",
       "0          Distance Traveled              -0.000768\n",
       "1                   Engine %              -4.800342\n",
       "2              Moving Time %               5.521254\n",
       "3               Over Speed %               2.121030\n",
       "4             Excess Speed %               1.376772\n",
       "5                 Over RPM %              -2.981784\n",
       "6                Long Idle %              -0.065483\n",
       "7               Short Idle %              -2.690566\n",
       "8                   PTO Fuel              -0.005590\n",
       "9              Cruise Time %               0.581874\n",
       "10           Top Gear Time %               0.008846\n",
       "11     Top Gear Fuel Economy               0.002718\n",
       "12        Brake Applications               0.000175\n",
       "13  Brake Applied / Distance              -0.023846\n",
       "14                       WGT            -116.062414"
      ]
     },
     "execution_count": 36,
     "metadata": {},
     "output_type": "execute_result"
    }
   ],
   "source": [
    "pd.DataFrame({'features':X.columns,'estimatedCoefficients':lm.coef_})[['features','estimatedCoefficients']]"
   ]
  },
  {
   "cell_type": "markdown",
   "metadata": {},
   "source": [
    "Add Estimated Coefficient Intercept to this dataframe"
   ]
  },
  {
   "cell_type": "code",
   "execution_count": 37,
   "metadata": {},
   "outputs": [
    {
     "name": "stdout",
     "output_type": "stream",
     "text": [
      "(55381, 15)\n",
      "(55381,)\n",
      "(27278, 15)\n",
      "(27278,)\n"
     ]
    }
   ],
   "source": [
    "X_train, X_test, Y_Train, Y_test = sklearn.model_selection.train_test_split(X,df1_clean['Fuel Economy'], test_size = 0.33, random_state = 5 )\n",
    "\n",
    "print(X_train.shape)\n",
    "print(Y_Train.shape)\n",
    "print(X_test.shape)\n",
    "print(Y_test.shape)\n",
    "\n",
    "lm = LinearRegression()\n",
    "lm.fit(X_train, Y_Train)\n",
    "PTrain = lm.predict(X_train)\n",
    "PTest = lm.predict(X_test)"
   ]
  },
  {
   "cell_type": "code",
   "execution_count": 38,
   "metadata": {},
   "outputs": [
    {
     "name": "stdout",
     "output_type": "stream",
     "text": [
      "MSE training data:  0.7018245160699111\n",
      "MSE test data:  0.718936722727725\n"
     ]
    }
   ],
   "source": [
    "mseTrain = np.mean((Y_Train - lm.predict(X_train)) ** 2)\n",
    "mseTest = np.mean((Y_test - lm.predict(X_test)) ** 2)\n",
    "print(\"MSE training data: \", mseTrain)\n",
    "print(\"MSE test data: \", mseTest)"
   ]
  },
  {
   "cell_type": "markdown",
   "metadata": {},
   "source": [
    "# Cluster 2 - Linear Regression"
   ]
  },
  {
   "cell_type": "code",
   "execution_count": 39,
   "metadata": {},
   "outputs": [
    {
     "data": {
      "text/plain": [
       "LinearRegression(copy_X=True, fit_intercept=True, n_jobs=1, normalize=False)"
      ]
     },
     "execution_count": 39,
     "metadata": {},
     "output_type": "execute_result"
    }
   ],
   "source": [
    "df2 = df2.drop('Driver ID', axis = 1)\n",
    "df2 = df2.drop('Route', axis = 1)\n",
    "df2 = df2.drop('cluster', axis = 1)\n",
    "df2 = df2.drop('Moving Fuel Used', axis = 1)\n",
    "df2 = df2.drop('Fuel Used', axis = 1)\n",
    "df2 = df2.drop('Short Idle Fuel', axis = 1)\n",
    "df2 = df2.drop('Long Idle Fuel', axis = 1)\n",
    "df2 = df2.drop('shp', axis = 1)\n",
    "df2 = df2.drop('SC', axis = 1)\n",
    "df2 = df2.drop('DIST', axis = 1)\n",
    "df2 = df2.drop('REGION', axis = 1)\n",
    "df2 = df2.drop('EMAKE', axis = 1)\n",
    "df2 = df2.drop('EMODEL', axis = 1)\n",
    "df2 = df2.drop('EYEAR', axis = 1)\n",
    "df2 = df2.drop('TRACTOR_ID', axis = 1)\n",
    "df2 = df2.drop('DEPT_SHORT_NM', axis = 1)\n",
    "df2 = df2.drop('TRIP_ORIGIN_TERM', axis = 1)\n",
    "df2 = df2.drop('TRIP_DEST_TERM', axis = 1)\n",
    "df2 = df2.drop('Latitude', axis = 1)\n",
    "df2 = df2.drop('Longitude', axis = 1)\n",
    "df2 = df2.drop('DISPATCH_DATE', axis = 1)\n",
    "df2 = df2.drop('DISPATCH_TIME', axis = 1)\n",
    "df2 = df2.drop('ACT_DISPATCH_DATE', axis = 1)\n",
    "df2 = df2.drop('ACT_DISPATCH_TIME', axis = 1)\n",
    "df2 = df2.drop('ACT_ARRIVAL_DATE', axis = 1)\n",
    "df2 = df2.drop('ACT_ARRIVAL_TIME', axis = 1)\n",
    "df2 = df2.drop('ARRIVAL_ETA_DATE', axis = 1)\n",
    "df2 = df2.drop('ARRIVAL_ETA_TIME', axis = 1)\n",
    "df2 = df2.drop('End Date', axis = 1)\n",
    "df2 = df2.drop('Start Date', axis = 1)\n",
    "df2 = df2.drop('EMP_ORIGL_HIRE_DT', axis = 1)\n",
    "df2 = df2.drop('Driver Name', axis = 1)\n",
    "df2 = df2.drop('Seatbelt Usage %', axis = 1)\n",
    "df2 = df2.drop('Moving Engine Load %', axis = 1)\n",
    "df2 = df2.drop('Idle Engine Load %', axis = 1)\n",
    "df2 = df2.drop('Moving Fuel Economy', axis = 1)\n",
    "df2 = df2.drop('PTO Time', axis = 1)\n",
    "df2 = df2.drop('Cruise Fuel Economy', axis = 1)\n",
    "\n",
    "df2_clean= df2.dropna()\n",
    "\n",
    "from sklearn.linear_model import LinearRegression\n",
    "X = df2_clean.drop('Fuel Economy', axis = 1)\n",
    "\n",
    "lm = LinearRegression()\n",
    "lm.fit(X,df2_clean['Fuel Economy'])\n"
   ]
  },
  {
   "cell_type": "code",
   "execution_count": 40,
   "metadata": {},
   "outputs": [
    {
     "name": "stdout",
     "output_type": "stream",
     "text": [
      "Number of Coefficient:15\n"
     ]
    }
   ],
   "source": [
    "print('Number of Coefficient:{}'.format(len(lm.coef_)))"
   ]
  },
  {
   "cell_type": "code",
   "execution_count": 41,
   "metadata": {},
   "outputs": [
    {
     "name": "stdout",
     "output_type": "stream",
     "text": [
      "Estimed intercept coefficient: 7.307337411415549\n"
     ]
    }
   ],
   "source": [
    "print('Estimed intercept coefficient: {}'.format(lm.intercept_))"
   ]
  },
  {
   "cell_type": "code",
   "execution_count": 42,
   "metadata": {},
   "outputs": [
    {
     "data": {
      "text/html": [
       "<div>\n",
       "<style>\n",
       "    .dataframe thead tr:only-child th {\n",
       "        text-align: right;\n",
       "    }\n",
       "\n",
       "    .dataframe thead th {\n",
       "        text-align: left;\n",
       "    }\n",
       "\n",
       "    .dataframe tbody tr th {\n",
       "        vertical-align: top;\n",
       "    }\n",
       "</style>\n",
       "<table border=\"1\" class=\"dataframe\">\n",
       "  <thead>\n",
       "    <tr style=\"text-align: right;\">\n",
       "      <th></th>\n",
       "      <th>features</th>\n",
       "      <th>estimatedCoefficients</th>\n",
       "    </tr>\n",
       "  </thead>\n",
       "  <tbody>\n",
       "    <tr>\n",
       "      <th>0</th>\n",
       "      <td>Distance Traveled</td>\n",
       "      <td>-0.000755</td>\n",
       "    </tr>\n",
       "    <tr>\n",
       "      <th>1</th>\n",
       "      <td>Engine %</td>\n",
       "      <td>0.063229</td>\n",
       "    </tr>\n",
       "    <tr>\n",
       "      <th>2</th>\n",
       "      <td>Moving Time %</td>\n",
       "      <td>0.005200</td>\n",
       "    </tr>\n",
       "    <tr>\n",
       "      <th>3</th>\n",
       "      <td>Over Speed %</td>\n",
       "      <td>0.652474</td>\n",
       "    </tr>\n",
       "    <tr>\n",
       "      <th>4</th>\n",
       "      <td>Excess Speed %</td>\n",
       "      <td>-0.660795</td>\n",
       "    </tr>\n",
       "    <tr>\n",
       "      <th>5</th>\n",
       "      <td>Over RPM %</td>\n",
       "      <td>-1.021541</td>\n",
       "    </tr>\n",
       "    <tr>\n",
       "      <th>6</th>\n",
       "      <td>Long Idle %</td>\n",
       "      <td>-1.930743</td>\n",
       "    </tr>\n",
       "    <tr>\n",
       "      <th>7</th>\n",
       "      <td>Short Idle %</td>\n",
       "      <td>-3.798782</td>\n",
       "    </tr>\n",
       "    <tr>\n",
       "      <th>8</th>\n",
       "      <td>PTO Fuel</td>\n",
       "      <td>-0.003665</td>\n",
       "    </tr>\n",
       "    <tr>\n",
       "      <th>9</th>\n",
       "      <td>Cruise Time %</td>\n",
       "      <td>0.241435</td>\n",
       "    </tr>\n",
       "    <tr>\n",
       "      <th>10</th>\n",
       "      <td>Top Gear Time %</td>\n",
       "      <td>-0.000010</td>\n",
       "    </tr>\n",
       "    <tr>\n",
       "      <th>11</th>\n",
       "      <td>Top Gear Fuel Economy</td>\n",
       "      <td>0.043570</td>\n",
       "    </tr>\n",
       "    <tr>\n",
       "      <th>12</th>\n",
       "      <td>Brake Applications</td>\n",
       "      <td>0.000155</td>\n",
       "    </tr>\n",
       "    <tr>\n",
       "      <th>13</th>\n",
       "      <td>Brake Applied / Distance</td>\n",
       "      <td>-0.059310</td>\n",
       "    </tr>\n",
       "    <tr>\n",
       "      <th>14</th>\n",
       "      <td>WGT</td>\n",
       "      <td>-88.010166</td>\n",
       "    </tr>\n",
       "  </tbody>\n",
       "</table>\n",
       "</div>"
      ],
      "text/plain": [
       "                    features  estimatedCoefficients\n",
       "0          Distance Traveled              -0.000755\n",
       "1                   Engine %               0.063229\n",
       "2              Moving Time %               0.005200\n",
       "3               Over Speed %               0.652474\n",
       "4             Excess Speed %              -0.660795\n",
       "5                 Over RPM %              -1.021541\n",
       "6                Long Idle %              -1.930743\n",
       "7               Short Idle %              -3.798782\n",
       "8                   PTO Fuel              -0.003665\n",
       "9              Cruise Time %               0.241435\n",
       "10           Top Gear Time %              -0.000010\n",
       "11     Top Gear Fuel Economy               0.043570\n",
       "12        Brake Applications               0.000155\n",
       "13  Brake Applied / Distance              -0.059310\n",
       "14                       WGT             -88.010166"
      ]
     },
     "execution_count": 42,
     "metadata": {},
     "output_type": "execute_result"
    }
   ],
   "source": [
    "pd.DataFrame({'features':X.columns,'estimatedCoefficients':lm.coef_})[['features','estimatedCoefficients']]"
   ]
  },
  {
   "cell_type": "markdown",
   "metadata": {},
   "source": [
    "\n",
    "Add Estimated Coefficient Intercept to this dataframe\n"
   ]
  },
  {
   "cell_type": "code",
   "execution_count": 43,
   "metadata": {},
   "outputs": [
    {
     "data": {
      "text/plain": [
       "0.23397516989356792"
      ]
     },
     "execution_count": 43,
     "metadata": {},
     "output_type": "execute_result"
    }
   ],
   "source": [
    "from sklearn.metrics import r2_score\n",
    "r2_score(df2_clean['Fuel Economy'], lm.predict(X), multioutput='variance_weighted')"
   ]
  },
  {
   "cell_type": "code",
   "execution_count": 44,
   "metadata": {},
   "outputs": [
    {
     "name": "stdout",
     "output_type": "stream",
     "text": [
      "(74929, 15)\n",
      "(74929,)\n",
      "(36906, 15)\n",
      "(36906,)\n"
     ]
    }
   ],
   "source": [
    "X_train, X_test, Y_Train, Y_test = sklearn.model_selection.train_test_split(X,df2_clean['Fuel Economy'], test_size = 0.33, random_state = 5 )\n",
    "\n",
    "print(X_train.shape)\n",
    "print(Y_Train.shape)\n",
    "print(X_test.shape)\n",
    "print(Y_test.shape)\n",
    "\n",
    "lm = LinearRegression()\n",
    "lm.fit(X_train, Y_Train)\n",
    "PTrain = lm.predict(X_train)\n",
    "PTest = lm.predict(X_test)"
   ]
  },
  {
   "cell_type": "code",
   "execution_count": 45,
   "metadata": {},
   "outputs": [
    {
     "name": "stdout",
     "output_type": "stream",
     "text": [
      "MSE training data:  0.5241175011943747\n",
      "MSE test data:  0.4054138152612458\n"
     ]
    }
   ],
   "source": [
    "mseTrain = np.mean((Y_Train - lm.predict(X_train)) ** 2)\n",
    "mseTest = np.mean((Y_test - lm.predict(X_test)) **2)\n",
    "print(\"MSE training data: \", mseTrain)\n",
    "print(\"MSE test data: \", mseTest)"
   ]
  },
  {
   "cell_type": "markdown",
   "metadata": {},
   "source": [
    "# CLUSTER 3 - LINEAR REGRESSION"
   ]
  },
  {
   "cell_type": "code",
   "execution_count": 46,
   "metadata": {},
   "outputs": [
    {
     "data": {
      "text/plain": [
       "LinearRegression(copy_X=True, fit_intercept=True, n_jobs=1, normalize=False)"
      ]
     },
     "execution_count": 46,
     "metadata": {},
     "output_type": "execute_result"
    }
   ],
   "source": [
    "df3 = df3.drop('Driver ID', axis = 1)\n",
    "df3 = df3.drop('Route', axis = 1)\n",
    "df3 = df3.drop('cluster', axis = 1)\n",
    "df3 = df3.drop('Moving Fuel Used', axis = 1)\n",
    "df3 = df3.drop('Fuel Used', axis = 1)\n",
    "df3 = df3.drop('Short Idle Fuel', axis = 1)\n",
    "df3 = df3.drop('Long Idle Fuel', axis = 1)\n",
    "df3 = df3.drop('shp', axis = 1)\n",
    "df3 = df3.drop('SC', axis = 1)\n",
    "df3 = df3.drop('DIST', axis = 1)\n",
    "df3 = df3.drop('REGION', axis = 1)\n",
    "df3 = df3.drop('EMAKE', axis = 1)\n",
    "df3 = df3.drop('EMODEL', axis = 1)\n",
    "df3 = df3.drop('EYEAR', axis = 1)\n",
    "df3 = df3.drop('TRACTOR_ID', axis = 1)\n",
    "df3 = df3.drop('DEPT_SHORT_NM', axis = 1)\n",
    "df3 = df3.drop('TRIP_ORIGIN_TERM', axis = 1)\n",
    "df3 = df3.drop('TRIP_DEST_TERM', axis = 1)\n",
    "df3 = df3.drop('Latitude', axis = 1)\n",
    "df3 = df3.drop('Longitude', axis = 1)\n",
    "df3 = df3.drop('DISPATCH_DATE', axis = 1)\n",
    "df3 = df3.drop('DISPATCH_TIME', axis = 1)\n",
    "df3 = df3.drop('ACT_DISPATCH_DATE', axis = 1)\n",
    "df3 = df3.drop('ACT_DISPATCH_TIME', axis = 1)\n",
    "df3 = df3.drop('ACT_ARRIVAL_DATE', axis = 1)\n",
    "df3 = df3.drop('ACT_ARRIVAL_TIME', axis = 1)\n",
    "df3 = df3.drop('ARRIVAL_ETA_DATE', axis = 1)\n",
    "df3 = df3.drop('ARRIVAL_ETA_TIME', axis = 1)\n",
    "df3 = df3.drop('End Date', axis = 1)\n",
    "df3 = df3.drop('Start Date', axis = 1)\n",
    "df3 = df3.drop('EMP_ORIGL_HIRE_DT', axis = 1)\n",
    "df3 = df3.drop('Driver Name', axis = 1)\n",
    "df3 = df3.drop('Seatbelt Usage %', axis = 1)\n",
    "df3 = df3.drop('Moving Engine Load %', axis = 1)\n",
    "df3 = df3.drop('Idle Engine Load %', axis = 1)\n",
    "df3 = df3.drop('Moving Fuel Economy', axis = 1)\n",
    "df3 = df3.drop('PTO Time', axis = 1)\n",
    "df3 = df3.drop('Cruise Fuel Economy', axis = 1)\n",
    "\n",
    "\n",
    "df3_clean= df3.dropna()\n",
    "\n",
    "from sklearn.linear_model import LinearRegression\n",
    "X = df3_clean.drop('Fuel Economy', axis = 1)\n",
    "\n",
    "lm = LinearRegression()\n",
    "lm.fit(X,df3_clean['Fuel Economy'])"
   ]
  },
  {
   "cell_type": "code",
   "execution_count": 47,
   "metadata": {},
   "outputs": [
    {
     "name": "stdout",
     "output_type": "stream",
     "text": [
      "Number of Coefficient:15\n"
     ]
    }
   ],
   "source": [
    "print('Number of Coefficient:{}'.format(len(lm.coef_)))"
   ]
  },
  {
   "cell_type": "code",
   "execution_count": 48,
   "metadata": {},
   "outputs": [
    {
     "name": "stdout",
     "output_type": "stream",
     "text": [
      "Estimed intercept coefficient: 7.677983432569661\n"
     ]
    }
   ],
   "source": [
    "print('Estimed intercept coefficient: {}'.format(lm.intercept_))"
   ]
  },
  {
   "cell_type": "code",
   "execution_count": 49,
   "metadata": {},
   "outputs": [
    {
     "data": {
      "text/plain": [
       "0.24389830567112403"
      ]
     },
     "execution_count": 49,
     "metadata": {},
     "output_type": "execute_result"
    }
   ],
   "source": [
    "from sklearn.metrics import r2_score\n",
    "r2_score(df3_clean['Fuel Economy'], lm.predict(X), multioutput='variance_weighted')"
   ]
  },
  {
   "cell_type": "code",
   "execution_count": 50,
   "metadata": {},
   "outputs": [
    {
     "data": {
      "text/html": [
       "<div>\n",
       "<style>\n",
       "    .dataframe thead tr:only-child th {\n",
       "        text-align: right;\n",
       "    }\n",
       "\n",
       "    .dataframe thead th {\n",
       "        text-align: left;\n",
       "    }\n",
       "\n",
       "    .dataframe tbody tr th {\n",
       "        vertical-align: top;\n",
       "    }\n",
       "</style>\n",
       "<table border=\"1\" class=\"dataframe\">\n",
       "  <thead>\n",
       "    <tr style=\"text-align: right;\">\n",
       "      <th></th>\n",
       "      <th>features</th>\n",
       "      <th>estimatedCoefficients</th>\n",
       "    </tr>\n",
       "  </thead>\n",
       "  <tbody>\n",
       "    <tr>\n",
       "      <th>0</th>\n",
       "      <td>Distance Traveled</td>\n",
       "      <td>-0.000744</td>\n",
       "    </tr>\n",
       "    <tr>\n",
       "      <th>1</th>\n",
       "      <td>Engine %</td>\n",
       "      <td>0.880046</td>\n",
       "    </tr>\n",
       "    <tr>\n",
       "      <th>2</th>\n",
       "      <td>Moving Time %</td>\n",
       "      <td>-0.909640</td>\n",
       "    </tr>\n",
       "    <tr>\n",
       "      <th>3</th>\n",
       "      <td>Over Speed %</td>\n",
       "      <td>0.070856</td>\n",
       "    </tr>\n",
       "    <tr>\n",
       "      <th>4</th>\n",
       "      <td>Excess Speed %</td>\n",
       "      <td>-10.593697</td>\n",
       "    </tr>\n",
       "    <tr>\n",
       "      <th>5</th>\n",
       "      <td>Over RPM %</td>\n",
       "      <td>-2.384342</td>\n",
       "    </tr>\n",
       "    <tr>\n",
       "      <th>6</th>\n",
       "      <td>Long Idle %</td>\n",
       "      <td>-4.155035</td>\n",
       "    </tr>\n",
       "    <tr>\n",
       "      <th>7</th>\n",
       "      <td>Short Idle %</td>\n",
       "      <td>-5.572467</td>\n",
       "    </tr>\n",
       "    <tr>\n",
       "      <th>8</th>\n",
       "      <td>PTO Fuel</td>\n",
       "      <td>-0.007114</td>\n",
       "    </tr>\n",
       "    <tr>\n",
       "      <th>9</th>\n",
       "      <td>Cruise Time %</td>\n",
       "      <td>0.115398</td>\n",
       "    </tr>\n",
       "    <tr>\n",
       "      <th>10</th>\n",
       "      <td>Top Gear Time %</td>\n",
       "      <td>0.407309</td>\n",
       "    </tr>\n",
       "    <tr>\n",
       "      <th>11</th>\n",
       "      <td>Top Gear Fuel Economy</td>\n",
       "      <td>0.014458</td>\n",
       "    </tr>\n",
       "    <tr>\n",
       "      <th>12</th>\n",
       "      <td>Brake Applications</td>\n",
       "      <td>0.000031</td>\n",
       "    </tr>\n",
       "    <tr>\n",
       "      <th>13</th>\n",
       "      <td>Brake Applied / Distance</td>\n",
       "      <td>-0.059830</td>\n",
       "    </tr>\n",
       "    <tr>\n",
       "      <th>14</th>\n",
       "      <td>WGT</td>\n",
       "      <td>-90.687120</td>\n",
       "    </tr>\n",
       "  </tbody>\n",
       "</table>\n",
       "</div>"
      ],
      "text/plain": [
       "                    features  estimatedCoefficients\n",
       "0          Distance Traveled              -0.000744\n",
       "1                   Engine %               0.880046\n",
       "2              Moving Time %              -0.909640\n",
       "3               Over Speed %               0.070856\n",
       "4             Excess Speed %             -10.593697\n",
       "5                 Over RPM %              -2.384342\n",
       "6                Long Idle %              -4.155035\n",
       "7               Short Idle %              -5.572467\n",
       "8                   PTO Fuel              -0.007114\n",
       "9              Cruise Time %               0.115398\n",
       "10           Top Gear Time %               0.407309\n",
       "11     Top Gear Fuel Economy               0.014458\n",
       "12        Brake Applications               0.000031\n",
       "13  Brake Applied / Distance              -0.059830\n",
       "14                       WGT             -90.687120"
      ]
     },
     "execution_count": 50,
     "metadata": {},
     "output_type": "execute_result"
    }
   ],
   "source": [
    "pd.DataFrame({'features':X.columns,'estimatedCoefficients':lm.coef_})[['features','estimatedCoefficients']]"
   ]
  },
  {
   "cell_type": "markdown",
   "metadata": {},
   "source": [
    "\n",
    "\n",
    "Add Estimated Coefficient Intercept to this dataframe\n"
   ]
  },
  {
   "cell_type": "code",
   "execution_count": 51,
   "metadata": {},
   "outputs": [
    {
     "name": "stdout",
     "output_type": "stream",
     "text": [
      "(14032, 15)\n",
      "(14032,)\n",
      "(6912, 15)\n",
      "(6912,)\n"
     ]
    }
   ],
   "source": [
    "X_train, X_test, Y_Train, Y_test = sklearn.model_selection.train_test_split(X,df3_clean['Fuel Economy'], test_size = 0.33, random_state = 5 )\n",
    "\n",
    "print(X_train.shape)\n",
    "print(Y_Train.shape)\n",
    "print(X_test.shape)\n",
    "print(Y_test.shape)\n",
    "\n",
    "lm = LinearRegression()\n",
    "lm.fit(X_train, Y_Train)\n",
    "PTrain = lm.predict(X_train)\n",
    "PTest = lm.predict(X_test)"
   ]
  },
  {
   "cell_type": "code",
   "execution_count": 53,
   "metadata": {},
   "outputs": [
    {
     "name": "stdout",
     "output_type": "stream",
     "text": [
      "MSE training data:  0.5162546464243766\n",
      "MSE test data:  0.5463423350965537\n"
     ]
    }
   ],
   "source": [
    "mseTrain = np.mean((Y_Train - lm.predict(X_train)) ** 2)\n",
    "mseTest = np.mean((Y_test - lm.predict(X_test)) ** 2)\n",
    "print(\"MSE training data: \", mseTrain)\n",
    "print(\"MSE test data: \", mseTest)"
   ]
  },
  {
   "cell_type": "markdown",
   "metadata": {},
   "source": [
    "Now append all the estimates into a single column\n",
    "\n",
    "Date-system date          \n",
    "Features    \n",
    "Estimates     \n",
    "Cluster\n",
    "\n",
    "\n",
    "\n",
    "\n",
    "\n",
    "Also, create another table to store the three metrics(r2, training mse and testing mse)\n",
    "\n",
    "\n",
    "Date - system date    \n",
    "R square -  Cluster 0    Cluster 1    Cluster 2   Cluster 3\n",
    "\n",
    "Training MSE - Cluster 0    Cluster 1    Cluster 2   Cluster 3\n",
    "\n",
    "Testing MSE -  Cluster 0    Cluster 1    Cluster 2   Cluster 3"
   ]
  },
  {
   "cell_type": "code",
   "execution_count": null,
   "metadata": {
    "collapsed": true
   },
   "outputs": [],
   "source": []
  }
 ],
 "metadata": {
  "kernelspec": {
   "display_name": "Python 3",
   "language": "python",
   "name": "python3"
  },
  "language_info": {
   "codemirror_mode": {
    "name": "ipython",
    "version": 3
   },
   "file_extension": ".py",
   "mimetype": "text/x-python",
   "name": "python",
   "nbconvert_exporter": "python",
   "pygments_lexer": "ipython3",
   "version": "3.6.1"
  }
 },
 "nbformat": 4,
 "nbformat_minor": 2
}
